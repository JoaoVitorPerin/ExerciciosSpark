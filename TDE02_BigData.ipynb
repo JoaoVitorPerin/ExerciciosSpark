{
  "nbformat": 4,
  "nbformat_minor": 0,
  "metadata": {
    "colab": {
      "provenance": []
    },
    "kernelspec": {
      "name": "python3",
      "display_name": "Python 3"
    },
    "language_info": {
      "name": "python"
    }
  },
  "cells": [
    {
      "cell_type": "code",
      "execution_count": null,
      "metadata": {
        "id": "5GB5HC1OOGY1"
      },
      "outputs": [],
      "source": [
        "!pip install -q findspark\n",
        "!pip install -q pyspark"
      ]
    },
    {
      "cell_type": "code",
      "source": [
        "import findspark\n",
        "findspark.init()\n",
        "\n",
        "from pyspark import SparkConf, SparkContext, SparkFiles\n",
        "conf = SparkConf().setAppName(\"TDE02 - BigData\").setMaster(\"local[*]\")\n",
        "sc = SparkContext.getOrCreate(conf = conf)\n",
        "\n",
        "#importando o csv\n",
        "rdd = sc.textFile(SparkFiles.get(\"/content/transactions_amostra.csv\"))"
      ],
      "metadata": {
        "id": "A509vLElPAiT"
      },
      "execution_count": null,
      "outputs": []
    },
    {
      "cell_type": "code",
      "source": [
        "#codigo para colocar a primeira linha do CSV em uma variavel\n",
        "primeira_linha = rdd.first()"
      ],
      "metadata": {
        "id": "k1JH8NuNFRLn"
      },
      "execution_count": null,
      "outputs": []
    },
    {
      "cell_type": "code",
      "source": [
        "#definindo o RDD sem a primeira linha para evitar conflitos\n",
        "rdd  = rdd.filter(lambda c: c != primeira_linha)"
      ],
      "metadata": {
        "id": "IZYw17pdFSUj"
      },
      "execution_count": null,
      "outputs": []
    },
    {
      "cell_type": "markdown",
      "source": [
        "**<h2>Question 1</h2>**\n",
        "\n",
        "The number of transactions involving Brazil."
      ],
      "metadata": {
        "id": "VYAd6Q8X_l4W"
      }
    },
    {
      "cell_type": "code",
      "source": [
        "#filtro para ter apenas linhas com a palavra 'Brazil'\n",
        "rdd_split_brazil = rdd.filter(lambda x: x.split(';')[0] == 'Brazil')\n",
        "\n",
        "print('Número de transações envolvendo o Brasil: \\n')\n",
        "#count para contar a occorencia de linhas\n",
        "print(rdd_split_brazil.count())"
      ],
      "metadata": {
        "id": "E6xstBz5P8Vg"
      },
      "execution_count": null,
      "outputs": []
    },
    {
      "cell_type": "markdown",
      "source": [
        "**<h2>Question 2</h2>**\n",
        "The number of transactions per year."
      ],
      "metadata": {
        "id": "Ube0zP3Z_vZe"
      }
    },
    {
      "cell_type": "code",
      "source": [
        "#map para pegar o valor do ano e a quantidade\n",
        "rdd_ano = rdd.map(lambda x: ((x.split(\";\")[1]), 1))\n",
        "\n",
        "#reduce a partir da chave (ano), somando a quantidade\n",
        "rdd_reduce_2 = rdd_ano.reduceByKey(lambda a, b: a + b)\n",
        "\n",
        "print('Numero de transações por ano (ano, quantidade):')\n",
        "#sort by para deixar o ano de forma decrescente\n",
        "rdd_reduce_2.sortBy(lambda x: x[0], ascending = False).collect()"
      ],
      "metadata": {
        "id": "hP5sZksjnUiX"
      },
      "execution_count": null,
      "outputs": []
    },
    {
      "cell_type": "markdown",
      "source": [
        "**<h2>Question 3</h2>**\n",
        "The number of transactions per flow type and year."
      ],
      "metadata": {
        "id": "GlzwaAw3_zmO"
      }
    },
    {
      "cell_type": "code",
      "source": [
        "#map para pegar os valores de tipo, ano e consequentemente a quantidade\n",
        "rdd_fluxo_ano = rdd.map(lambda x: ((x.split(\";\")[4], x.split(\";\")[1]), 1))\n",
        "\n",
        "#reduce a partir da chave (tipo, ano)) para somar a quantidade de  transações\n",
        "rdd_reduce_3 = rdd_fluxo_ano.reduceByKey(lambda a, b: a + b)\n",
        "\n",
        "print('Numero de transações por fluxo e ano ((tipo, ano), quantidade):')\n",
        "#sort by para deixar ordenado o tipo\n",
        "rdd_reduce_3.sortBy(lambda x: x[0], ascending = False).collect()"
      ],
      "metadata": {
        "id": "geWDg0mgRtHt"
      },
      "execution_count": null,
      "outputs": []
    },
    {
      "cell_type": "markdown",
      "source": [
        "**<h2>Question 4</h2>**\n",
        "The average of commodity values per year."
      ],
      "metadata": {
        "id": "0hZ0WRY0_5y4"
      }
    },
    {
      "cell_type": "code",
      "source": [
        "#map para pegar os valores de ano e valor\n",
        "rdd_media_ano = rdd.map(lambda x: ((x.split(';')[1]), (float(x.split(';')[5]))))\n",
        "\n",
        "#aqui calculamos o numero total com o count\n",
        "numero_total = rdd_media_ano.count()\n",
        "\n",
        "#reduce a partir da chave (ano)) para ter a media do valor das comodities por ano\n",
        "rdd_reduce_4 = rdd_media_ano.reduceByKey(lambda a, b: ((a + b) / numero_total))\n",
        "\n",
        "print('A média do valor das comodities por ano (ano, preco):')\n",
        "rdd_reduce_4.sortBy(lambda x: x[0], ascending = False).collect()"
      ],
      "metadata": {
        "id": "l0ywbmYEAtGU"
      },
      "execution_count": null,
      "outputs": []
    },
    {
      "cell_type": "markdown",
      "source": [
        "**<h2>Question 5</h2>**\n",
        "The average price of commodities per unit type, year, and category in the export flow in Brazil.\n"
      ],
      "metadata": {
        "id": "Q8tVxjoz_-Dd"
      }
    },
    {
      "cell_type": "code",
      "source": [
        "#filter para ter apenas Export no RDD\n",
        "rdd_exportacao = rdd_split_brazil.filter(lambda x: x.split(';')[4] == 'Export')\n",
        "\n",
        "#map para pegar os valores de pais, codigo, numero de itens, quantidade e preco\n",
        "rdd_preco_medio_exportacao = rdd_exportacao.map(lambda x: ((x.split(';')[0], x.split(';')[2], x.split(';')[7], x.split(';')[8]), (float(x.split(';')[5]), 1)))\n",
        "\n",
        "#reduce a partir da chave (pais, codigo, numero de itens, quantidade) para ter a soma do preço\n",
        "rdd_reduce_sum = rdd_preco_medio_exportacao.reduceByKey(lambda a, b: (a[0] + b[0], a[1] + b[1]))\n",
        "\n",
        "#mapValues para somar o valor do preco sem alterar as chaves\n",
        "preço_medio_commodities = rdd_reduce_sum.mapValues(lambda a: (a[0] / a[1]))\n",
        "#reduce para fazer a soma de tudo feito anteriormente\n",
        "\n",
        "rdd_reduce_5 = preço_medio_commodities.reduceByKey(lambda a, b: a + b)\n",
        "print('O preço medio das comodities, de exportação brasileira ((pais, codigo, numero de itens, quantidade), preco):')\n",
        "\n",
        "#sort by para ordenar apartir do preco\n",
        "rdd_reduce_5.sortBy(lambda x: x[1], ascending = False).collect()"
      ],
      "metadata": {
        "id": "AgZf3eUcW4gd"
      },
      "execution_count": null,
      "outputs": []
    },
    {
      "cell_type": "markdown",
      "source": [
        "**<h2>Question 6</h2>**\n",
        "The maximum, minimum, and mean transaction price per unit type and year."
      ],
      "metadata": {
        "id": "b_x_URoLAG0B"
      }
    },
    {
      "cell_type": "code",
      "source": [
        "#calculando o preço maximo de exportação\n",
        "rdd_ano_fluxo_export = rdd_exportacao.map(lambda x: ((x.split(';')[1], (x.split(';')[4])), (float(x.split(';')[5]))))\n",
        "\n",
        "#reduce a partir da chave (ano, tipo) para somar o valor total de Exportacao\n",
        "rdd_reduce_export = rdd_ano_fluxo_export.reduceByKey(lambda a, b: a + b)\n",
        "\n",
        "print('O PREÇO MÁXIMO DE EXPORTAÇÃO POR TIPO E ANO (ano, tipo, preco): ')\n",
        "#sortby para ordenar de forma decrescente e pegar apenas um valor\n",
        "rdd_reduce_export.sortBy(lambda x: x[1], ascending = False).take(1)"
      ],
      "metadata": {
        "id": "5Kz5eTnAY2_2"
      },
      "execution_count": null,
      "outputs": []
    },
    {
      "cell_type": "code",
      "source": [
        "#calculando o preço minimo de exportação\n",
        "\n",
        "print('O PREÇO MINIMO DE EXPORTAÇÃO POR TIPO E ANO (ano, tipo, preco): ')\n",
        "#sortby para ordenar de forma crecente e pegar apenas um valor\n",
        "rdd_reduce_export.sortBy(lambda x: x[1], ascending = True).take(1)"
      ],
      "metadata": {
        "id": "LUuFcl6HjB6_"
      },
      "execution_count": null,
      "outputs": []
    },
    {
      "cell_type": "code",
      "source": [
        "#calculando o preço medio de exportação\n",
        "#colocando em uma variavel o numero total de exportaçoes\n",
        "numero_total_export = (rdd_ano_fluxo_export.count())\n",
        "\n",
        "#map para pegar apenas o preco das exportaçoes\n",
        "rdd_map_media_export = rdd_ano_fluxo_export.map((lambda x: ((x[1]))))\n",
        "\n",
        "#reduce para somar o preco das exportacoes\n",
        "rdd_map_media__export_reduce = rdd_map_media_export.reduce(lambda a, b: a + b)\n",
        "\n",
        "print('O PREÇO MEDIO DE EXPORTAÇÃO POR TIPO E ANO:')\n",
        "#calculando a media do preco\n",
        "print(rdd_map_media__export_reduce / numero_total_export)"
      ],
      "metadata": {
        "id": "I4u4iNB8liW7"
      },
      "execution_count": null,
      "outputs": []
    },
    {
      "cell_type": "code",
      "source": [
        "#calculando o preço maximo de importação\n",
        "#filter para pegar apenas as linhas que sejam import\n",
        "rdd_importacao = rdd.filter(lambda x: x.split(';')[4] == 'Import')\n",
        "\n",
        "#map para pegar os valores de ano, tipo e preco\n",
        "rdd_ano_fluxo_import = rdd_importacao.map(lambda x: ((x.split(';')[1], (x.split(';')[4])), (float(x.split(';')[5]))))\n",
        "\n",
        "#reduce a partir da chave (ano, tipo) para somar o valor total de Importacao\n",
        "rdd_reduce_import = rdd_ano_fluxo_import.reduceByKey(lambda a, b: a + b)\n",
        "\n",
        "print('O PREÇO MÁXIMO DE IMPORTAÇÃO POR TIPO E ANO ((ano, tipo), preco): ')\n",
        "#sortby para ordenar de forma decrescente e pegar apenas um valor\n",
        "rdd_reduce_import.sortBy(lambda x: x[1], ascending = False).take(1)"
      ],
      "metadata": {
        "id": "Adrp7tEoip4F"
      },
      "execution_count": null,
      "outputs": []
    },
    {
      "cell_type": "code",
      "source": [
        "#calculando o preço minimo de exportação\n",
        "\n",
        "print('O PREÇO MINIMO DE IMPORTAÇÃO POR TIPO E ANO (ano, tipo, preco):')\n",
        "#sortby para ordenar de forma crescente e pegar apenas um valor\n",
        "rdd_reduce_import.sortBy(lambda x: x[1], ascending = True).take(1)"
      ],
      "metadata": {
        "id": "sT9GNzJelSlX"
      },
      "execution_count": null,
      "outputs": []
    },
    {
      "cell_type": "code",
      "source": [
        "#calculando o preço medio de exportação\n",
        "\n",
        "#colocando em uma variavel o numero total de importacoes\n",
        "numero_total_import = (rdd_ano_fluxo_import.count())\n",
        "\n",
        "#map para pegar apenas o preco das importacoes\n",
        "rdd_map_media_import = rdd_reduce_import.map((lambda x: ((x[1]))))\n",
        "\n",
        "#reduce para somar o preco das importacoes\n",
        "rdd_map_media__import_reduce = rdd_map_media_import.reduce(lambda a, b: a + b)\n",
        "\n",
        "print('O PREÇO MEDIO DE IMPORTAÇÃO POR TIPO E ANO:')\n",
        "#calculando a media do preco\n",
        "print(rdd_map_media__import_reduce / numero_total_import)"
      ],
      "metadata": {
        "id": "80mQP9iqlmAe"
      },
      "execution_count": null,
      "outputs": []
    },
    {
      "cell_type": "markdown",
      "source": [
        "**<h2>Question 7</h2>**\n",
        "The most commercialized commodity (summing the quantities) in 2016, per flow type."
      ],
      "metadata": {
        "id": "9faY-2IzAKNM"
      }
    },
    {
      "cell_type": "code",
      "source": [
        "#EXPORT:\n",
        "\n",
        "#filter para pegar as linha com a valor de ano igual a 2016\n",
        "rdd_ano_2016 = rdd.filter(lambda x: x.split(';')[1] == '2016')\n",
        "\n",
        "#filter para pegar as linha com a valor de tipo igual a Export\n",
        "rdd_ano_2016_export = rdd_ano_2016.filter(lambda x: x.split(';')[4] == 'Export')\n",
        "\n",
        "#map para pegar os valores de ano e quantidade\n",
        "rdd_ano_2016_export_qnt = rdd_ano_2016_export.map(lambda x: ((x.split(';')[2]), (float(x.split(';')[8]))))\n",
        "\n",
        "#reduce a partir de uma chave para somar o valor das quantidades\n",
        "rdd_export_reduce = rdd_ano_2016_export_qnt.reduceByKey(lambda a, b: a + b)\n",
        "\n",
        "print('A commoditie mais EXPORTADA em 2016 (codigo, quantidade):')\n",
        "#sortby para ordenar de forma decrescente e pegar apenas um valor\n",
        "rdd_export_reduce.sortBy(lambda x: x[1], ascending = False).take(1)"
      ],
      "metadata": {
        "id": "y2zyNIDvY4qa"
      },
      "execution_count": null,
      "outputs": []
    },
    {
      "cell_type": "code",
      "source": [
        "#IMPORT:\n",
        "#filter para pegar as linha com a valor de tipo igual a Export\n",
        "rdd_ano_2016_import = rdd_ano_2016.filter(lambda x: x.split(';')[4] == 'Import')\n",
        "\n",
        "#map para pegar os valores de ano e quantidade\n",
        "rdd_ano_2016_import_qnt = rdd_ano_2016_import.map(lambda x: ((x.split(';')[2]), (float(x.split(';')[8]))))\n",
        "\n",
        "#reduce a partir de uma chave para somar o valor das quantidades\n",
        "rdd_import_reduce = rdd_ano_2016_import_qnt.reduceByKey(lambda a, b: a + b)\n",
        "\n",
        "print('A commoditie mais IMPORTADA em 2016 (codigo, quantidade):')\n",
        "#sortby para ordenar de forma decrescente e pegar apenas um valor\n",
        "rdd_import_reduce.sortBy(lambda x: x[1], ascending = False).take(1)"
      ],
      "metadata": {
        "id": "JPS0-LiFYM7j"
      },
      "execution_count": null,
      "outputs": []
    }
  ]
}